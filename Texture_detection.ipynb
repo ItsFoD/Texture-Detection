{
  "cells": [
    {
      "cell_type": "markdown",
      "metadata": {
        "id": "view-in-github",
        "colab_type": "text"
      },
      "source": [
        "<a href=\"https://colab.research.google.com/github/ItsFoD/Texture-Detection/blob/main/Texture_detection.ipynb\" target=\"_parent\"><img src=\"https://colab.research.google.com/assets/colab-badge.svg\" alt=\"Open In Colab\"/></a>"
      ]
    },
    {
      "cell_type": "code",
      "execution_count": 1,
      "metadata": {
        "id": "dPuNLjgMzr4R"
      },
      "outputs": [],
      "source": [
        "import numpy as np\n",
        "import matplotlib.pyplot as plt\n",
        "import pandas as pd\n",
        "import os\n",
        "from skimage.io import imread"
      ]
    },
    {
      "cell_type": "code",
      "source": [
        "from google.colab import drive\n",
        "drive.mount('/content/drive')"
      ],
      "metadata": {
        "colab": {
          "base_uri": "https://localhost:8080/"
        },
        "id": "KirbrqrgnwVI",
        "outputId": "bd3e5831-bd0d-44bf-f645-d7766ab796f4"
      },
      "execution_count": 2,
      "outputs": [
        {
          "output_type": "stream",
          "name": "stdout",
          "text": [
            "Drive already mounted at /content/drive; to attempt to forcibly remount, call drive.mount(\"/content/drive\", force_remount=True).\n"
          ]
        }
      ]
    },
    {
      "cell_type": "code",
      "execution_count": 3,
      "metadata": {
        "id": "0Si9ufRo03fR"
      },
      "outputs": [],
      "source": [
        "def load_images_from_folder(root_folder):\n",
        "    images = []\n",
        "    labels = []\n",
        "    # array vs list : array = fixed size -> list uses something like a pointer to keep adding onto it\n",
        "    for root, dirs, files in os.walk(root_folder):\n",
        "        for filename in files:\n",
        "            try:\n",
        "                img = imread(os.path.join(root, filename))\n",
        "                if img is not None:\n",
        "                    images.append(img)\n",
        "                    labels.append(filename.split(\"-\")[0])\n",
        "            except Exception as e:\n",
        "                print(f\"Error loading image {filename}: {e}\")\n",
        "\n",
        "    return np.array(images), np.array(labels)"
      ]
    },
    {
      "cell_type": "code",
      "execution_count": 4,
      "metadata": {
        "id": "ft077wHy34O7"
      },
      "outputs": [],
      "source": [
        "test = \"/content/drive/MyDrive/ColabNotebooks/textures/testing\"\n",
        "train = \"/content/drive/MyDrive/ColabNotebooks/textures/training\""
      ]
    },
    {
      "cell_type": "code",
      "execution_count": 5,
      "metadata": {
        "colab": {
          "base_uri": "https://localhost:8080/"
        },
        "id": "gcF_1AKm369a",
        "outputId": "713d9ce0-6a1a-4eba-bf6f-bfb69bf39960"
      },
      "outputs": [
        {
          "output_type": "stream",
          "name": "stdout",
          "text": [
            "Train Labels: ['canvas1' 'canvas1' 'canvas1' 'canvas1' 'canvas1' 'canvas1' 'canvas1'\n",
            " 'canvas1' 'canvas1' 'canvas1' 'canvas1' 'canvas1' 'canvas1' 'canvas1'\n",
            " 'canvas1' 'canvas1' 'canvas1' 'canvas1' 'canvas1' 'canvas1' 'canvas1'\n",
            " 'canvas1' 'canvas1' 'canvas1' 'canvas1' 'canvas1' 'canvas1' 'canvas1'\n",
            " 'canvas1' 'canvas1' 'cushion1' 'cushion1' 'cushion1' 'cushion1'\n",
            " 'cushion1' 'cushion1' 'cushion1' 'cushion1' 'cushion1' 'cushion1'\n",
            " 'cushion1' 'cushion1' 'cushion1' 'cushion1' 'cushion1' 'cushion1'\n",
            " 'cushion1' 'cushion1' 'cushion1' 'cushion1' 'cushion1' 'cushion1'\n",
            " 'cushion1' 'cushion1' 'cushion1' 'cushion1' 'cushion1' 'cushion1'\n",
            " 'cushion1' 'cushion1' 'sand1' 'sand1' 'sand1' 'sand1' 'sand1' 'sand1'\n",
            " 'sand1' 'sand1' 'sand1' 'sand1' 'sand1' 'sand1' 'sand1' 'sand1' 'sand1'\n",
            " 'sand1' 'sand1' 'sand1' 'sand1' 'sand1' 'sand1' 'sand1' 'sand1' 'sand1'\n",
            " 'sand1' 'sand1' 'sand1' 'sand1' 'sand1' 'sand1' 'linseeds1' 'linseeds1'\n",
            " 'linseeds1' 'linseeds1' 'linseeds1' 'linseeds1' 'linseeds1' 'linseeds1'\n",
            " 'linseeds1' 'linseeds1' 'linseeds1' 'linseeds1' 'linseeds1' 'linseeds1'\n",
            " 'linseeds1' 'linseeds1' 'linseeds1' 'linseeds1' 'linseeds1' 'linseeds1'\n",
            " 'linseeds1' 'linseeds1' 'linseeds1' 'linseeds1' 'linseeds1' 'linseeds1'\n",
            " 'linseeds1' 'linseeds1' 'linseeds1' 'linseeds1' 'stone1' 'stone1'\n",
            " 'stone1' 'stone1' 'stone1' 'stone1' 'stone1' 'stone1' 'stone1' 'stone1'\n",
            " 'stone1' 'stone1' 'stone1' 'stone1' 'stone1' 'stone1' 'stone1' 'stone1'\n",
            " 'stone1' 'stone1' 'stone1' 'stone1' 'stone1' 'stone1' 'stone1' 'stone1'\n",
            " 'stone1' 'stone1' 'stone1' 'stone1' 'seat2' 'seat2' 'seat2' 'seat2'\n",
            " 'seat2' 'seat2' 'seat2' 'seat2' 'seat2' 'seat2' 'seat2' 'seat2' 'seat2'\n",
            " 'seat2' 'seat2' 'seat2' 'seat2' 'seat2' 'seat2' 'seat2' 'seat2' 'seat2'\n",
            " 'seat2' 'seat2' 'seat2' 'seat2' 'seat2' 'seat2' 'seat2' 'seat2']\n",
            "Test Labels: ['linseeds1' 'linseeds1' 'linseeds1' 'linseeds1' 'linseeds1' 'linseeds1'\n",
            " 'linseeds1' 'linseeds1' 'linseeds1' 'linseeds1' 'cushion1' 'cushion1'\n",
            " 'cushion1' 'cushion1' 'cushion1' 'cushion1' 'cushion1' 'cushion1'\n",
            " 'cushion1' 'cushion1' 'seat2' 'seat2' 'seat2' 'seat2' 'seat2' 'seat2'\n",
            " 'seat2' 'seat2' 'seat2' 'seat2' 'stone1' 'stone1' 'stone1' 'stone1'\n",
            " 'stone1' 'stone1' 'stone1' 'stone1' 'stone1' 'stone1' 'canvas1' 'canvas1'\n",
            " 'canvas1' 'canvas1' 'canvas1' 'canvas1' 'canvas1' 'canvas1' 'canvas1'\n",
            " 'canvas1' 'sand1' 'sand1' 'sand1' 'sand1' 'sand1' 'sand1' 'sand1' 'sand1'\n",
            " 'sand1' 'sand1']\n"
          ]
        }
      ],
      "source": [
        "train_images, train_labels = load_images_from_folder(train)\n",
        "test_images, test_labels = load_images_from_folder(test)\n",
        "\n",
        "print(\"Train Labels:\", train_labels)\n",
        "print(\"Test Labels:\", test_labels)"
      ]
    },
    {
      "cell_type": "code",
      "execution_count": 6,
      "metadata": {
        "colab": {
          "base_uri": "https://localhost:8080/"
        },
        "id": "xyWGfjXa14ID",
        "outputId": "587765ee-6d20-4fda-a396-9d56681677af"
      },
      "outputs": [
        {
          "output_type": "stream",
          "name": "stdout",
          "text": [
            "Train images: [[[ 73  60  63 ...  49  79 152]\n",
            "  [109  73  44 ...  52  57  87]\n",
            "  [106  65  49 ...  54  44  87]\n",
            "  ...\n",
            "  [138 130 117 ... 133 184 195]\n",
            "  [103 119 119 ... 152 187 190]\n",
            "  [ 95 111 141 ... 149 152 163]]\n",
            "\n",
            " [[172 154 185 ... 159 167 170]\n",
            "  [121 124 172 ... 154 157 164]\n",
            "  [137 144 147 ... 197 180 134]\n",
            "  ...\n",
            "  [200 246 248 ... 106 137 129]\n",
            "  [159 223 197 ... 116 124 134]\n",
            "  [152 154 131 ... 124 109 129]]\n",
            "\n",
            " [[ 77  90 120 ... 135 109 146]\n",
            "  [ 77 114 148 ... 137 114 152]\n",
            "  [ 84 118 144 ... 111 114 139]\n",
            "  ...\n",
            "  [ 94  73  77 ... 101 118  62]\n",
            "  [ 79  64 103 ...  90  84  73]\n",
            "  [ 88  77 111 ...  77  73  94]]\n",
            "\n",
            " ...\n",
            "\n",
            " [[ 90 100  76 ... 106 113 113]\n",
            "  [115 100  89 ... 101 124 111]\n",
            "  [ 66  60 120 ... 126 114  93]\n",
            "  ...\n",
            "  [ 80  86 123 ... 115 110  86]\n",
            "  [118 123 109 ... 128 127 127]\n",
            "  [ 92 127 147 ... 105  89 103]]\n",
            "\n",
            " [[105 100  71 ...  73 106  56]\n",
            "  [100  78  62 ...  54  69  96]\n",
            "  [ 85 108  91 ...  62  61 111]\n",
            "  ...\n",
            "  [114 162 166 ... 105  98  82]\n",
            "  [131 158 152 ... 129 100  78]\n",
            "  [147 109  94 ... 106 112 121]]\n",
            "\n",
            " [[197 166 126 ... 126 110  79]\n",
            "  [209 162 140 ... 129  76  74]\n",
            "  [168 178 171 ... 111 133 130]\n",
            "  ...\n",
            "  [120  97 125 ...  57 107 121]\n",
            "  [134 134 101 ...  73  65  79]\n",
            "  [145 152 125 ...  62  62  78]]]\n",
            "Test images: [[[148 140 135 ... 170 169 169]\n",
            "  [155 143 135 ... 180 182 181]\n",
            "  [162 152 143 ... 188 188 187]\n",
            "  ...\n",
            "  [204 189 166 ...  93  82  78]\n",
            "  [202 184 157 ... 100  83  80]\n",
            "  [196 184 152 ...  98  83  82]]\n",
            "\n",
            " [[168 166 161 ... 123 126 128]\n",
            "  [178 177 177 ... 131 136 137]\n",
            "  [187 190 193 ... 134 143 152]\n",
            "  ...\n",
            "  [ 78  82  82 ... 156 161 166]\n",
            "  [ 75  79  79 ... 131 151 163]\n",
            "  [ 78  76  77 ... 115 141 155]]\n",
            "\n",
            " [[202 198 195 ...  76  88  99]\n",
            "  [203 202 196 ...  85 100 111]\n",
            "  [205 203 196 ... 102 116 117]\n",
            "  ...\n",
            "  [ 89  91  89 ... 171 166 166]\n",
            "  [ 92  94  91 ... 171 170 170]\n",
            "  [ 94  97  92 ... 173 174 174]]\n",
            "\n",
            " ...\n",
            "\n",
            " [[120 132 144 ... 127 122 112]\n",
            "  [122 134 139 ... 144 139 134]\n",
            "  [115 122 125 ... 152 152 147]\n",
            "  ...\n",
            "  [187 197 188 ... 129 124 109]\n",
            "  [185 193 178 ... 130 122 112]\n",
            "  [185 180 150 ... 127 117 104]]\n",
            "\n",
            " [[242 247 255 ... 122 126 112]\n",
            "  [234 246 254 ... 111 112  99]\n",
            "  [222 236 247 ... 102  99  81]\n",
            "  ...\n",
            "  [119 141 144 ... 116 134 154]\n",
            "  [119 136 137 ... 122 134 151]\n",
            "  [121 132 134 ... 127 136 149]]\n",
            "\n",
            " [[169 159 144 ... 169 174 172]\n",
            "  [178 178 165 ... 159 163 163]\n",
            "  [189 187 182 ... 152 157 156]\n",
            "  ...\n",
            "  [133 124 120 ... 152 116  86]\n",
            "  [131 122 118 ... 126  92  75]\n",
            "  [129 124 124 ... 112  80  71]]]\n"
          ]
        }
      ],
      "source": [
        "print(\"Train images:\", train_images)\n",
        "print(\"Test images:\", test_images)"
      ]
    },
    {
      "cell_type": "code",
      "execution_count": 7,
      "metadata": {
        "colab": {
          "base_uri": "https://localhost:8080/"
        },
        "id": "4mDBRtLD9C3m",
        "outputId": "5e830342-2697-44e4-c785-3c6be1141b5f"
      },
      "outputs": [
        {
          "output_type": "execute_result",
          "data": {
            "text/plain": [
              "(180, 576, 576)"
            ]
          },
          "metadata": {},
          "execution_count": 7
        }
      ],
      "source": [
        "train_images.shape"
      ]
    },
    {
      "cell_type": "code",
      "execution_count": 8,
      "metadata": {
        "colab": {
          "base_uri": "https://localhost:8080/"
        },
        "id": "zReY0BpE9eLJ",
        "outputId": "58c1770e-01b9-472c-9092-923375e42172"
      },
      "outputs": [
        {
          "output_type": "execute_result",
          "data": {
            "text/plain": [
              "array(['canvas1', 'canvas1', 'canvas1', 'canvas1', 'canvas1', 'canvas1',\n",
              "       'canvas1', 'canvas1', 'canvas1', 'canvas1', 'canvas1', 'canvas1',\n",
              "       'canvas1', 'canvas1', 'canvas1', 'canvas1', 'canvas1', 'canvas1',\n",
              "       'canvas1', 'canvas1', 'canvas1', 'canvas1', 'canvas1', 'canvas1',\n",
              "       'canvas1', 'canvas1', 'canvas1', 'canvas1', 'canvas1', 'canvas1',\n",
              "       'cushion1', 'cushion1', 'cushion1', 'cushion1', 'cushion1',\n",
              "       'cushion1', 'cushion1', 'cushion1', 'cushion1', 'cushion1',\n",
              "       'cushion1', 'cushion1', 'cushion1', 'cushion1', 'cushion1',\n",
              "       'cushion1', 'cushion1', 'cushion1', 'cushion1', 'cushion1',\n",
              "       'cushion1', 'cushion1', 'cushion1', 'cushion1', 'cushion1',\n",
              "       'cushion1', 'cushion1', 'cushion1', 'cushion1', 'cushion1',\n",
              "       'sand1', 'sand1', 'sand1', 'sand1', 'sand1', 'sand1', 'sand1',\n",
              "       'sand1', 'sand1', 'sand1', 'sand1', 'sand1', 'sand1', 'sand1',\n",
              "       'sand1', 'sand1', 'sand1', 'sand1', 'sand1', 'sand1', 'sand1',\n",
              "       'sand1', 'sand1', 'sand1', 'sand1', 'sand1', 'sand1', 'sand1',\n",
              "       'sand1', 'sand1', 'linseeds1', 'linseeds1', 'linseeds1',\n",
              "       'linseeds1', 'linseeds1', 'linseeds1', 'linseeds1', 'linseeds1',\n",
              "       'linseeds1', 'linseeds1', 'linseeds1', 'linseeds1', 'linseeds1',\n",
              "       'linseeds1', 'linseeds1', 'linseeds1', 'linseeds1', 'linseeds1',\n",
              "       'linseeds1', 'linseeds1', 'linseeds1', 'linseeds1', 'linseeds1',\n",
              "       'linseeds1', 'linseeds1', 'linseeds1', 'linseeds1', 'linseeds1',\n",
              "       'linseeds1', 'linseeds1', 'stone1', 'stone1', 'stone1', 'stone1',\n",
              "       'stone1', 'stone1', 'stone1', 'stone1', 'stone1', 'stone1',\n",
              "       'stone1', 'stone1', 'stone1', 'stone1', 'stone1', 'stone1',\n",
              "       'stone1', 'stone1', 'stone1', 'stone1', 'stone1', 'stone1',\n",
              "       'stone1', 'stone1', 'stone1', 'stone1', 'stone1', 'stone1',\n",
              "       'stone1', 'stone1', 'seat2', 'seat2', 'seat2', 'seat2', 'seat2',\n",
              "       'seat2', 'seat2', 'seat2', 'seat2', 'seat2', 'seat2', 'seat2',\n",
              "       'seat2', 'seat2', 'seat2', 'seat2', 'seat2', 'seat2', 'seat2',\n",
              "       'seat2', 'seat2', 'seat2', 'seat2', 'seat2', 'seat2', 'seat2',\n",
              "       'seat2', 'seat2', 'seat2', 'seat2'], dtype='<U9')"
            ]
          },
          "metadata": {},
          "execution_count": 8
        }
      ],
      "source": [
        "train_labels"
      ]
    },
    {
      "cell_type": "code",
      "execution_count": 9,
      "metadata": {
        "colab": {
          "base_uri": "https://localhost:8080/",
          "height": 501
        },
        "id": "elQeMjeO9iVT",
        "outputId": "e61360f7-5c3c-40c9-82b1-e9b2e2b51a17"
      },
      "outputs": [
        {
          "output_type": "stream",
          "name": "stderr",
          "text": [
            "<ipython-input-9-8e6c9ceba36b>:8: UserWarning: Tight layout not applied. tight_layout cannot make axes height small enough to accommodate all axes decorations.\n",
            "  plt.tight_layout()\n"
          ]
        },
        {
          "output_type": "display_data",
          "data": {
            "text/plain": [
              "<Figure size 500x500 with 100 Axes>"
            ],
            "image/png": "[encoded data removed]"
          },
          "metadata": {}
        }
      ],
      "source": [
        "import random\n",
        "fig, axes = plt.subplots(20, 5, figsize=(5, 5))\n",
        "axes = axes.flatten()\n",
        "for i in range(100):\n",
        "    axes[i].imshow(train_images[random.choice(range(len(train_images)))])\n",
        "    axes[i].set_title(train_labels[i])\n",
        "    axes[i].axis('off')\n",
        "plt.tight_layout()\n",
        "plt.show()\n"
      ]
    },
    {
      "cell_type": "code",
      "execution_count": 10,
      "metadata": {
        "colab": {
          "base_uri": "https://localhost:8080/"
        },
        "id": "3pFD_TbrFOQl",
        "outputId": "ddc19f89-985e-4ea1-b879-791e6a166cdb"
      },
      "outputs": [
        {
          "output_type": "execute_result",
          "data": {
            "text/plain": [
              "(60, 576, 576)"
            ]
          },
          "metadata": {},
          "execution_count": 10
        }
      ],
      "source": [
        "test_images.shape"
      ]
    },
    {
      "cell_type": "code",
      "execution_count": 11,
      "metadata": {
        "colab": {
          "base_uri": "https://localhost:8080/"
        },
        "id": "cXj8FbNQGjNJ",
        "outputId": "d5ee95ca-00be-4e1e-be31-cb52d4589f2e"
      },
      "outputs": [
        {
          "output_type": "execute_result",
          "data": {
            "text/plain": [
              "(180, 576, 576)"
            ]
          },
          "metadata": {},
          "execution_count": 11
        }
      ],
      "source": [
        "train_images.shape"
      ]
    },
    {
      "cell_type": "code",
      "execution_count": 12,
      "metadata": {
        "id": "iKhUVF-TDEPf"
      },
      "outputs": [],
      "source": [
        "from tensorflow.keras import layers\n",
        "from tensorflow.keras import models\n",
        "from tensorflow.keras import optimizers\n",
        "from tensorflow.keras.utils import to_categorical\n",
        "from sklearn.preprocessing import LabelEncoder\n",
        "\n",
        "label_encoder = LabelEncoder()\n",
        "train_labels = label_encoder.fit_transform(train_labels)\n",
        "test_labels = label_encoder.fit_transform(test_labels)\n",
        "\n",
        "# train_labels = to_categorical(train_labels)\n",
        "# test_labels = to_categorical(test_labels)\n"
      ]
    },
    {
      "cell_type": "code",
      "execution_count": 13,
      "metadata": {
        "colab": {
          "base_uri": "https://localhost:8080/"
        },
        "id": "7y74xChcPAXk",
        "outputId": "7c8f5008-6178-4032-f122-241b14c25dd3"
      },
      "outputs": [
        {
          "output_type": "execute_result",
          "data": {
            "text/plain": [
              "(180,)"
            ]
          },
          "metadata": {},
          "execution_count": 13
        }
      ],
      "source": [
        "train_labels.shape\n"
      ]
    },
    {
      "cell_type": "code",
      "execution_count": 14,
      "metadata": {
        "id": "FST3fSk6OtRK"
      },
      "outputs": [],
      "source": [
        "input_shape = (576, 576,1)\n",
        "\n",
        "model = models.Sequential()\n",
        "model.add(layers.Conv2D(32, (3, 3), activation='relu', input_shape=input_shape))\n",
        "model.add(layers.MaxPooling2D((2, 2)))\n",
        "model.add(layers.Flatten())\n",
        "#dropout\n",
        "model.add(layers.Dropout(0.5))\n",
        "model.add(layers.Dense(6, activation='softmax'))"
      ]
    },
    {
      "cell_type": "code",
      "execution_count": 15,
      "metadata": {
        "colab": {
          "base_uri": "https://localhost:8080/"
        },
        "id": "GM9pHx2LO1B7",
        "outputId": "0509ad76-0b6e-4fc1-f57b-3b1011675f27"
      },
      "outputs": [
        {
          "output_type": "stream",
          "name": "stdout",
          "text": [
            "Model: \"sequential\"\n",
            "_________________________________________________________________\n",
            " Layer (type)                Output Shape              Param #   \n",
            "=================================================================\n",
            " conv2d (Conv2D)             (None, 574, 574, 32)      320       \n",
            "                                                                 \n",
            " max_pooling2d (MaxPooling2  (None, 287, 287, 32)      0         \n",
            " D)                                                              \n",
            "                                                                 \n",
            " flatten (Flatten)           (None, 2635808)           0         \n",
            "                                                                 \n",
            " dropout (Dropout)           (None, 2635808)           0         \n",
            "                                                                 \n",
            " dense (Dense)               (None, 6)                 15814854  \n",
            "                                                                 \n",
            "=================================================================\n",
            "Total params: 15815174 (60.33 MB)\n",
            "Trainable params: 15815174 (60.33 MB)\n",
            "Non-trainable params: 0 (0.00 Byte)\n",
            "_________________________________________________________________\n"
          ]
        }
      ],
      "source": [
        "model.summary()"
      ]
    },
    {
      "cell_type": "code",
      "execution_count": 16,
      "metadata": {
        "colab": {
          "base_uri": "https://localhost:8080/"
        },
        "id": "CJIrH68XORLo",
        "outputId": "bb74c9c5-9834-4d3c-cc8b-fc20e36feae6"
      },
      "outputs": [
        {
          "output_type": "stream",
          "name": "stdout",
          "text": [
            "Epoch 1/17\n",
            "6/6 [==============================] - 8s 617ms/step - loss: 25707.2109 - accuracy: 0.1389 - val_loss: 4761.0254 - val_accuracy: 0.1667\n",
            "Epoch 2/17\n",
            "6/6 [==============================] - 1s 146ms/step - loss: 24747.5586 - accuracy: 0.1667 - val_loss: 11659.2520 - val_accuracy: 0.0000e+00\n",
            "Epoch 3/17\n",
            "6/6 [==============================] - 1s 138ms/step - loss: 16625.5762 - accuracy: 0.1833 - val_loss: 7545.1895 - val_accuracy: 0.0000e+00\n",
            "Epoch 4/17\n",
            "6/6 [==============================] - 1s 138ms/step - loss: 6992.2612 - accuracy: 0.1500 - val_loss: 1288.8762 - val_accuracy: 0.1667\n",
            "Epoch 5/17\n",
            "6/6 [==============================] - 1s 144ms/step - loss: 4735.0044 - accuracy: 0.3667 - val_loss: 1774.4792 - val_accuracy: 0.0000e+00\n",
            "Epoch 6/17\n",
            "6/6 [==============================] - 1s 145ms/step - loss: 1680.5732 - accuracy: 0.4278 - val_loss: 1251.3307 - val_accuracy: 0.1667\n",
            "Epoch 7/17\n",
            "6/6 [==============================] - 1s 143ms/step - loss: 770.8990 - accuracy: 0.4444 - val_loss: 1335.5953 - val_accuracy: 0.0000e+00\n",
            "Epoch 8/17\n",
            "6/6 [==============================] - 1s 145ms/step - loss: 193.1292 - accuracy: 0.6944 - val_loss: 1042.6014 - val_accuracy: 0.0000e+00\n",
            "Epoch 9/17\n",
            "6/6 [==============================] - 1s 136ms/step - loss: 177.3935 - accuracy: 0.7778 - val_loss: 881.9735 - val_accuracy: 0.1667\n",
            "Epoch 10/17\n",
            "6/6 [==============================] - 1s 150ms/step - loss: 15.3841 - accuracy: 0.9000 - val_loss: 889.1590 - val_accuracy: 0.1167\n",
            "Epoch 11/17\n",
            "6/6 [==============================] - 1s 144ms/step - loss: 0.6875 - accuracy: 0.9944 - val_loss: 953.3940 - val_accuracy: 0.0000e+00\n",
            "Epoch 12/17\n",
            "6/6 [==============================] - 1s 155ms/step - loss: 0.0282 - accuracy: 0.9944 - val_loss: 970.9658 - val_accuracy: 0.0000e+00\n",
            "Epoch 13/17\n",
            "6/6 [==============================] - 1s 146ms/step - loss: 0.2156 - accuracy: 0.9944 - val_loss: 956.2778 - val_accuracy: 0.0000e+00\n",
            "Epoch 14/17\n",
            "6/6 [==============================] - 1s 144ms/step - loss: 0.0000e+00 - accuracy: 1.0000 - val_loss: 949.0546 - val_accuracy: 0.0000e+00\n",
            "Epoch 15/17\n",
            "6/6 [==============================] - 1s 145ms/step - loss: 0.0000e+00 - accuracy: 1.0000 - val_loss: 945.8525 - val_accuracy: 0.0000e+00\n",
            "Epoch 16/17\n",
            "6/6 [==============================] - 1s 144ms/step - loss: 0.0000e+00 - accuracy: 1.0000 - val_loss: 944.5449 - val_accuracy: 0.0000e+00\n",
            "Epoch 17/17\n",
            "6/6 [==============================] - 1s 136ms/step - loss: 0.0000e+00 - accuracy: 1.0000 - val_loss: 943.9141 - val_accuracy: 0.0000e+00\n"
          ]
        },
        {
          "output_type": "execute_result",
          "data": {
            "text/plain": [
              "<keras.src.callbacks.History at 0x7f395969a020>"
            ]
          },
          "metadata": {},
          "execution_count": 16
        }
      ],
      "source": [
        "model.compile(loss='sparse_categorical_crossentropy',\n",
        "              optimizer='adam',\n",
        "              metrics=['accuracy'])\n",
        "\n",
        "model.fit(train_images, train_labels, epochs=17,\n",
        "          validation_data=(test_images*0.3, test_labels*0.3))"
      ]
    },
    {
      "cell_type": "code",
      "execution_count": 17,
      "metadata": {
        "colab": {
          "base_uri": "https://localhost:8080/"
        },
        "id": "d3QJ_fZBneW7",
        "outputId": "c094c6df-bd2f-4aec-ea02-d3d8898c946e"
      },
      "outputs": [
        {
          "output_type": "stream",
          "name": "stdout",
          "text": [
            "Epoch 1/20\n",
            "5/5 [==============================] - 4s 734ms/step - loss: 132.0850 - accuracy: 0.4459 - val_loss: 173.1446 - val_accuracy: 0.4167\n",
            "Epoch 2/20\n",
            "5/5 [==============================] - 4s 762ms/step - loss: 66.8714 - accuracy: 0.6081 - val_loss: 87.2715 - val_accuracy: 0.7167\n",
            "Epoch 3/20\n",
            "5/5 [==============================] - 6s 1s/step - loss: 43.8171 - accuracy: 0.6216 - val_loss: 54.0041 - val_accuracy: 0.6833\n",
            "Epoch 4/20\n",
            "5/5 [==============================] - 5s 930ms/step - loss: 35.2772 - accuracy: 0.6892 - val_loss: 144.7581 - val_accuracy: 0.3833\n",
            "Epoch 5/20\n",
            "5/5 [==============================] - 4s 673ms/step - loss: 51.6198 - accuracy: 0.6351 - val_loss: 108.7211 - val_accuracy: 0.6667\n",
            "Epoch 6/20\n",
            "5/5 [==============================] - 3s 677ms/step - loss: 28.8641 - accuracy: 0.7095 - val_loss: 37.7957 - val_accuracy: 0.7167\n",
            "Epoch 7/20\n",
            "5/5 [==============================] - 4s 986ms/step - loss: 64.4765 - accuracy: 0.6081 - val_loss: 65.1333 - val_accuracy: 0.5833\n",
            "Epoch 8/20\n",
            "5/5 [==============================] - 4s 666ms/step - loss: 44.1971 - accuracy: 0.6892 - val_loss: 100.7701 - val_accuracy: 0.5667\n",
            "Epoch 9/20\n",
            "5/5 [==============================] - 4s 706ms/step - loss: 34.9565 - accuracy: 0.6824 - val_loss: 48.3054 - val_accuracy: 0.6333\n",
            "Epoch 10/20\n",
            "5/5 [==============================] - 5s 1s/step - loss: 46.7588 - accuracy: 0.7000 - val_loss: 104.8270 - val_accuracy: 0.6333\n",
            "Epoch 11/20\n",
            "5/5 [==============================] - 3s 741ms/step - loss: 33.6191 - accuracy: 0.7162 - val_loss: 83.9187 - val_accuracy: 0.6667\n",
            "Epoch 12/20\n",
            "5/5 [==============================] - 4s 703ms/step - loss: 27.3177 - accuracy: 0.7365 - val_loss: 87.2668 - val_accuracy: 0.5833\n",
            "Epoch 13/20\n",
            "5/5 [==============================] - 4s 686ms/step - loss: 14.6466 - accuracy: 0.7770 - val_loss: 86.3557 - val_accuracy: 0.6833\n",
            "Epoch 14/20\n",
            "5/5 [==============================] - 4s 754ms/step - loss: 16.7017 - accuracy: 0.7437 - val_loss: 73.8356 - val_accuracy: 0.5667\n",
            "Epoch 15/20\n",
            "5/5 [==============================] - 5s 1s/step - loss: 11.3350 - accuracy: 0.7703 - val_loss: 67.4591 - val_accuracy: 0.6333\n",
            "Epoch 16/20\n",
            "5/5 [==============================] - 3s 662ms/step - loss: 12.5752 - accuracy: 0.8041 - val_loss: 80.5075 - val_accuracy: 0.6333\n",
            "Epoch 17/20\n",
            "5/5 [==============================] - 4s 702ms/step - loss: 14.0475 - accuracy: 0.8041 - val_loss: 61.3272 - val_accuracy: 0.6333\n",
            "Epoch 18/20\n",
            "5/5 [==============================] - 5s 875ms/step - loss: 13.5590 - accuracy: 0.7500 - val_loss: 61.1921 - val_accuracy: 0.6667\n",
            "Epoch 19/20\n",
            "5/5 [==============================] - 4s 721ms/step - loss: 10.9744 - accuracy: 0.7973 - val_loss: 96.2510 - val_accuracy: 0.5333\n",
            "Epoch 20/20\n",
            "5/5 [==============================] - 4s 686ms/step - loss: 13.0528 - accuracy: 0.7568 - val_loss: 22.0828 - val_accuracy: 0.7333\n"
          ]
        },
        {
          "output_type": "execute_result",
          "data": {
            "text/plain": [
              "<keras.src.callbacks.History at 0x7f395f838040>"
            ]
          },
          "metadata": {},
          "execution_count": 17
        }
      ],
      "source": [
        "from tensorflow.keras.preprocessing.image import ImageDataGenerator\n",
        "\n",
        "\n",
        "datagen = ImageDataGenerator(\n",
        "    rotation_range=20,\n",
        "    width_shift_range=0.2,\n",
        "    height_shift_range=0.2,\n",
        "    shear_range=0.2,\n",
        "    zoom_range=0.2,\n",
        "    horizontal_flip=True,\n",
        "    fill_mode='nearest'\n",
        ")\n",
        "\n",
        "train_images = np.expand_dims(train_images, axis=-1)\n",
        "datagen.fit(train_images)\n",
        "\n",
        "model.fit(datagen.flow(train_images, train_labels, batch_size=32),\n",
        "          steps_per_epoch=len(train_images) // 32,  # Adjust based on your dataset size\n",
        "          epochs=20,\n",
        "          validation_data=(test_images, test_labels))"
      ]
    }
  ],
  "metadata": {
    "accelerator": "GPU",
    "colab": {
      "gpuType": "T4",
      "provenance": [],
      "include_colab_link": true
    },
    "kernelspec": {
      "display_name": "Python 3",
      "name": "python3"
    },
    "language_info": {
      "name": "python"
    }
  },
  "nbformat": 4,
  "nbformat_minor": 0
}